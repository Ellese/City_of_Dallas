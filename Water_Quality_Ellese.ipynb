{
 "cells": [
  {
   "cell_type": "code",
   "execution_count": 4,
   "metadata": {},
   "outputs": [],
   "source": [
    "import numpy as np\n",
    "import pandas as pd"
   ]
  },
  {
   "cell_type": "code",
   "execution_count": 5,
   "metadata": {},
   "outputs": [],
   "source": [
    "edd_temp = pd.read_csv(\"Data/WQ_SAMPLING_EDD_TEMP.txt\", encoding = 'unicode_escape')\n",
    "events = pd.read_csv(\"Data/WQ_SAMPLING_EVENTS.txt\", encoding = 'unicode_escape')\n",
    "in_house_method = pd.read_csv(\"Data/WQ_SAMPLING_IN_HOUSE_METHOD.txt\", encoding = 'unicode_escape')\n",
    "# parameters = pd.read_csv(\"Data/WQ_SAMPLING_PARAMETERS.txt\", encoding = 'unicode_escape')\n",
    "# preservatives = pd.read_csv(\"Data/WQ_SAMPLING_PRESERVATIVES.txt\", encoding = 'unicode_escape')\n",
    "# results = pd.read_csv(\"Data/WQ_SAMPLING_RESULTS.txt\", encoding = 'unicode_escape')\n",
    "# dry_outfall_inspect = pd.read_csv(\"Data/WQM_DRY_W_OUTFALL_INSPECTION.txt\", encoding = 'unicode_escape')\n",
    "# habitat_assess = pd.read_csv(\"Data/WQM_HABITAT_ASSESMENTS.txt\", encoding = 'unicode_escape')\n",
    "# waterquality_assess = pd.read_csv(\"Data/WQM_WATERQUALITY_ASSESMENT.txt\", encoding = 'unicode_escape')\n",
    "# wet_weather = pd.read_csv(\"Data/WQM_WET_WEATHER_SAMPLING.txt\", encoding = 'unicode_escape')"
   ]
  },
  {
   "cell_type": "markdown",
   "metadata": {},
   "source": [
    "# `WQ_SAMPLING_EDD_TEMP.txt`"
   ]
  },
  {
   "cell_type": "code",
   "execution_count": 24,
   "metadata": {},
   "outputs": [],
   "source": [
    "edd_temp[\"ANALYSIS_DATE\"] = pd.to_datetime(edd_temp[\"ANALYSIS_DATE\"])\n",
    "edd_temp[\"COLLECT_DATE\"] = pd.to_datetime(edd_temp[\"COLLECT_DATE\"])\n",
    "edd_temp[\"RECORD_CREATED\"] = pd.to_datetime(edd_temp[\"RECORD_CREATED\"])                                          "
   ]
  },
  {
   "cell_type": "markdown",
   "metadata": {},
   "source": [
    "## Rough Metadata Guide and Notes\n",
    "---\n",
    "- SAMPLING_RESULTS_ID\n",
    "- SAMPLING_EVENTS_ID\n",
    "- CUSTODY_NUMBER\n",
    "- **PARAMETER**: character. What is being measured (mostly total Phosphorous)\n",
    "- **METHOD**: Measurement method - each method appears to measure a different chemical/aspect of water quality\n",
    "- **NUMBER_RESULT**: numeric\n",
    "- **REPORTED_RESULT**: numeric\n",
    "- **ALPHA_RESULT**: numeric. Mostly NaN\n",
    "- **FLAG**: character\n",
    "- **UNITS**: character. mg/L, ug/L, %, µg/L, or uS/cm\n",
    "- **MDL**: Method Detection Limit\n",
    "- **RDL**: Reliable Detection Limit\n",
    "- **ANALYSIS_DATE**: Converted to date-time object\n",
    "- **ANALYZED_BY**: character name (can probably drop this column)\n",
    "- **RECORD_CREATED**: Converted to date-time object\n",
    "- **PARAMETERS_ID**: All NaN (can probably be deleted)\n",
    "- **CONTRACT_LAB_ID**: character. Lab names\n",
    "- SAMPLE_ID\n",
    "- **COLLECT_DATE**: Converted to date-time object\n",
    "- **REASON**: character. 'No Matching Sample ID', NaN, or 'No Matching Preservative Record'\n",
    "- ROWID"
   ]
  },
  {
   "cell_type": "markdown",
   "metadata": {},
   "source": [
    "# `WQ_SAMPLING_EVENTS.txt`"
   ]
  },
  {
   "cell_type": "code",
   "execution_count": 62,
   "metadata": {},
   "outputs": [],
   "source": [
    "events[\"COLLECT_TIME\"] = pd.to_datetime(events[\"COLLECT_TIME\"])\n",
    "events[\"DATE_ANALYZED\"] = pd.to_datetime(events[\"DATE_ANALYZED\"])"
   ]
  },
  {
   "cell_type": "markdown",
   "metadata": {},
   "source": [
    "## Rough Metadata Guide and Notes\n",
    "---\n",
    "- SAMPLING_EVENTS_ID\n",
    "- CUSTODY_NUMBER\n",
    "- SWM_SITE_ID\n",
    "- **SWM_SITE_NUMBER**: Only NaN values (can probablity drop this column)\n",
    "- **SITE_ADDITIONAL_DESCRIPTION**: characters (mostly NaN values however)\n",
    "- **PROGRAM_CATEGORY**: character. 'Bioassessment', 'LocalWetWeather', 'Complaints', 'SpecialProjects', 'RegionalWetWeather', or 'Fish Kills'\n",
    "- **SAMPLE_TYPE**: 'Grab' or 'Composite'\n",
    "- **MATRIX_TYPE**: All values display 'Water' (can probably drop this column)\n",
    "- SWM_WATERSHED\n",
    "- HUC_12_WATERSHED\n",
    "- HUC_12_WATERSHED_NAME\n",
    "- **LOCATION_DESCRIPTION**: character address\n",
    "- **COLLECT_DATE**: Redundant information. Use `COLLECT_TIME` instead (can probably drop this column)\n",
    "- **COLLECT_TIME**: Converted to date-time objects\n",
    "- **SAMPLER_NAME**: character name (can probably drop this column)\n",
    "- **DATE_ANALYZED**: Converted to date-time objects\n",
    "- **LATITUDE**: All NaN values (can probably drop this column)\n",
    "- **LONGITUDE**: All NaN values (can probably drop this column)\n",
    "- **COMMENTS**: character 'nan', 'TTI analyzing bacteria', 'bacteria analyzed in house', or 'Add COD'. Needs to be cleaned - comments do not match cases\n",
    "- **APPROVED_BY**: (can probably drop this column)\n",
    "- **DATE_LAB_DATA_RECVD**: All NaN values (can probably drop this column)\n",
    "- **RECORD_CREATED**: All NaN values (can probably drop this column)\n",
    "- **APPROVED_DATE**: Mostly NaN values (can probably drop this column)\n",
    "- **NUMBER_OF_CONTAINERS**: Integer values between 0 and 12\n",
    "- **TURN_AROUND_TIME**: All contain 'normal' (can probably drop this column)\n",
    "- **SAMPLES_FOR_LAB**: Booleans\n",
    "- **MODIFIED_BY**: character names (can probably drop this column)\n",
    "- HUC_12_SUBNAME\n",
    "- **EVENT_COMMENT**: character comments. Some overlap with `COMMENTS`\n",
    "- **DUPLICATE**: Boolean, NaN or True\n",
    "- **HABITAT_SCORE**: All NaN (can probably drop this column)\n",
    "- **HABITAT_FLAG**: All NaN (can probably drop this column)\n",
    "- **LABORATORY**: character names\n",
    "- **STREAM_LOCATION**: character. Mostly NaN\n",
    "- GBA_SN_ID\n",
    "- **FLOW_SEVERITY**: numeric. Mostly NaN\n",
    "- **DAYS_SINCE_LAST_RAINFALL**: numeric. Mostly NaN\n",
    "- **INSTANTANEOUS_FLOW**: numeric. Mostly NaN\n",
    "- **OUTFALL_NUM**: All NaN (can probably drop this column)\n",
    "- ROWID"
   ]
  },
  {
   "cell_type": "markdown",
   "metadata": {},
   "source": [
    "# `WQ_SAMPLING_IN_HOUSE_METHOD.txt`"
   ]
  },
  {
   "cell_type": "markdown",
   "metadata": {},
   "source": [
    "## Rough Metadata Guide and Notes\n",
    "---\n",
    "- **METHOD_ID**: numeric\n",
    "- **DESCRIPTION**: character. Not sure what values mean\n",
    "- **MANUFACTURER**: character. 'Hydrolab', 'Hach', or 'In-Situ'\n",
    "- **MODEL**: character. Mostly NaN\n",
    "- **SERIAL**: character. Mostly NaN\n",
    "- **DATE_REC**: character. Needs to be cleaned - dates have different formats. Mostly just displays years 1996 and 2008.\n",
    "- **METHOD**: character"
   ]
  },
  {
   "cell_type": "code",
   "execution_count": null,
   "metadata": {},
   "outputs": [],
   "source": []
  }
 ],
 "metadata": {
  "celltoolbar": "Edit Metadata",
  "kernelspec": {
   "display_name": "Python 3",
   "language": "python",
   "name": "python3"
  },
  "language_info": {
   "codemirror_mode": {
    "name": "ipython",
    "version": 3
   },
   "file_extension": ".py",
   "mimetype": "text/x-python",
   "name": "python",
   "nbconvert_exporter": "python",
   "pygments_lexer": "ipython3",
   "version": "3.6.8"
  }
 },
 "nbformat": 4,
 "nbformat_minor": 2
}
